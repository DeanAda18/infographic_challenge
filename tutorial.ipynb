{
 "cells": [
  {
   "cell_type": "markdown",
   "metadata": {
    "slideshow": {
     "slide_type": "slide"
    }
   },
   "source": [
    "# Introduction to Data Analysis with Pandas\n",
    "First sign in to hub.ada.ac.uk, open a terminal and clone this repo from https://github.com/adacollege/infographic-challenge"
   ]
  },
  {
   "cell_type": "code",
   "execution_count": null,
   "metadata": {
    "slideshow": {
     "slide_type": "fragment"
    }
   },
   "outputs": [],
   "source": [
    "# We tend to abbreviate the pandas library as pd\n",
    "import pandas as pd\n",
    "\n",
    "# You can use these options to adjust how pandas abbreviates tables to fit in the notebook\n",
    "pd.options.display.max_columns = 100\n",
    "pd.options.display.max_rows = 10\n",
    "\n",
    "# Display graphs in the notebook\n",
    "%matplotlib inline"
   ]
  },
  {
   "cell_type": "markdown",
   "metadata": {
    "slideshow": {
     "slide_type": "slide"
    }
   },
   "source": [
    "## Getting the data into Python\n",
    "\n",
    "The `pandas` library stores data in what it calls a *dataframe*, which is really just a smart table.\n",
    "\n",
    "We use the `read_csv` function to read in our London Boroughs data.\n",
    "\n",
    "Don't forget to run each cell when you get to it with either `ctrl`+`enter` or `shift`+`enter`"
   ]
  },
  {
   "cell_type": "code",
   "execution_count": null,
   "metadata": {
    "slideshow": {
     "slide_type": "subslide"
    }
   },
   "outputs": [],
   "source": [
    "# read in our csv file, and automatically change missing values (a dot in the csv) into NaN\n",
    "boroughs = pd.read_csv('boroughs.csv', na_values = ['.',' '])\n",
    "\n",
    "# Remember jupyter hub echoes the last line of a cell, so we'll see a representation of our data when we run this cell\n",
    "# If we only want to see e.g. the first 5 rows, use boroughs.head(5)\n",
    "boroughs"
   ]
  },
  {
   "cell_type": "markdown",
   "metadata": {
    "slideshow": {
     "slide_type": "subslide"
    }
   },
   "source": [
    "Notice that Pandas adds an index column for us. We don't really need this as every row has a unique index already - the name of the borough - so let's change this. This will make it easier for us later when we want to look at individual boroughs."
   ]
  },
  {
   "cell_type": "code",
   "execution_count": null,
   "metadata": {
    "slideshow": {
     "slide_type": "-"
    }
   },
   "outputs": [],
   "source": [
    "boroughs = boroughs.set_index('Borough')\n",
    "boroughs.head(5)"
   ]
  },
  {
   "cell_type": "markdown",
   "metadata": {
    "slideshow": {
     "slide_type": "slide"
    }
   },
   "source": [
    "## Accessing data"
   ]
  },
  {
   "cell_type": "markdown",
   "metadata": {
    "slideshow": {
     "slide_type": "-"
    }
   },
   "source": [
    "A single column of the data (known as a *series*) is accessible using Python dot notation (e.g. boroughs.Age) or square brackets, a bit like with a Python list or dictionary."
   ]
  },
  {
   "cell_type": "code",
   "execution_count": null,
   "metadata": {
    "slideshow": {
     "slide_type": "-"
    }
   },
   "outputs": [],
   "source": [
    "# this is the same as boroughs.Age\n",
    "boroughs['Age']"
   ]
  },
  {
   "cell_type": "markdown",
   "metadata": {
    "slideshow": {
     "slide_type": "subslide"
    }
   },
   "source": [
    "Square brackets are more flexible because we can give them a list of headings. When we do this we get another smaller dataframe returned."
   ]
  },
  {
   "cell_type": "code",
   "execution_count": null,
   "metadata": {
    "slideshow": {
     "slide_type": "-"
    }
   },
   "outputs": [],
   "source": [
    "# note the nested brackets\n",
    "boroughs[['Population','Happy']]"
   ]
  },
  {
   "cell_type": "markdown",
   "metadata": {
    "slideshow": {
     "slide_type": "subslide"
    }
   },
   "source": [
    "We can also use the `loc` function (which uses square brackets, too) to *filter* the data and *locate* the index Haringey."
   ]
  },
  {
   "cell_type": "code",
   "execution_count": null,
   "metadata": {
    "slideshow": {
     "slide_type": "-"
    }
   },
   "outputs": [],
   "source": [
    "boroughs.loc['Haringey']"
   ]
  },
  {
   "cell_type": "markdown",
   "metadata": {
    "slideshow": {
     "slide_type": "slide"
    }
   },
   "source": [
    "We can also select multiple boroughs to compare."
   ]
  },
  {
   "cell_type": "code",
   "execution_count": null,
   "metadata": {
    "slideshow": {
     "slide_type": "fragment"
    }
   },
   "outputs": [],
   "source": [
    "boroughs.loc[['Haringey','Hackney']]"
   ]
  },
  {
   "cell_type": "markdown",
   "metadata": {
    "slideshow": {
     "slide_type": "fragment"
    }
   },
   "source": [
    "Alternatively we can use loc to get a single piece of data in a given row and column."
   ]
  },
  {
   "cell_type": "code",
   "execution_count": null,
   "metadata": {
    "slideshow": {
     "slide_type": "fragment"
    }
   },
   "outputs": [],
   "source": [
    "boroughs.loc['Waltham Forest', 'Households']"
   ]
  },
  {
   "cell_type": "markdown",
   "metadata": {
    "slideshow": {
     "slide_type": "subslide"
    }
   },
   "source": [
    "## Tasks\n",
    "*Make yourself some cells below this one to try out some of these activities to practice accessing data from dataframes*\n",
    "- Choose your home borough (or another borough if you prefer) and make a new dataframe to include just this borough's data and the overall 'London' data (make sure you give the dataframe a new name)\n",
    "- Select just the columns 'Cars', 'Cycle' and 'PublicT' and make your dataframe contain just these columns.\n",
    "- Compare your borough to the London average in these areas, what do you notice?"
   ]
  },
  {
   "cell_type": "markdown",
   "metadata": {
    "slideshow": {
     "slide_type": "slide"
    }
   },
   "source": [
    "## Sorting and filtering"
   ]
  },
  {
   "cell_type": "markdown",
   "metadata": {
    "slideshow": {
     "slide_type": "-"
    }
   },
   "source": [
    "Let's find out which boroughs have the highest population.\n",
    "\n",
    "`pandas` dataframes have a `sort_values` function."
   ]
  },
  {
   "cell_type": "markdown",
   "metadata": {
    "slideshow": {
     "slide_type": "slide"
    }
   },
   "source": [
    "### Task\n",
    "\n",
    "> Make the sort_values function below work, to put the boroughs in order of population\n",
    ">\n",
    "> Now put them in *descending* order\n",
    ">\n",
    "> Which borough has the largest population?\n",
    "\n",
    "Remember in a jupyter notebook, you can put the cursor in the function brackets and hit `shift`+`tab` to bring up documentation for that function."
   ]
  },
  {
   "cell_type": "code",
   "execution_count": null,
   "metadata": {
    "slideshow": {
     "slide_type": "-"
    }
   },
   "outputs": [],
   "source": [
    "# *** broken ***\n",
    "boroughs.sort_values(by='Population', ascending = False)"
   ]
  },
  {
   "cell_type": "markdown",
   "metadata": {
    "slideshow": {
     "slide_type": "subslide"
    }
   },
   "source": [
    "What if we wanted to only include **innerLondon** boroughs?"
   ]
  },
  {
   "cell_type": "code",
   "execution_count": null,
   "metadata": {
    "slideshow": {
     "slide_type": "fragment"
    }
   },
   "outputs": [],
   "source": [
    "boroughs.loc[boroughs[\"InnerOuter\"]=='Inner London']"
   ]
  },
  {
   "cell_type": "markdown",
   "metadata": {
    "slideshow": {
     "slide_type": "-"
    }
   },
   "source": [
    "So we can pass a Boolean into those square brackets to *filter* the data. `pandas` square brackets are clearly a bit more powerful than regular Python square brackets."
   ]
  },
  {
   "cell_type": "markdown",
   "metadata": {
    "slideshow": {
     "slide_type": "slide"
    }
   },
   "source": [
    "### Task\n",
    "\n",
    "> Filter the data to show only Outer London boroughs\n",
    ">\n",
    "> Apply `sort_values` to give the Outer London boroughs in descending order of population"
   ]
  },
  {
   "cell_type": "markdown",
   "metadata": {
    "slideshow": {
     "slide_type": "subslide"
    }
   },
   "source": [
    "If you want to combine two Booleans into one filter you'll need to put both into parentheses *for reasons*. For example,"
   ]
  },
  {
   "cell_type": "code",
   "execution_count": null,
   "metadata": {
    "slideshow": {
     "slide_type": "-"
    }
   },
   "outputs": [],
   "source": [
    "boroughs.loc[(boroughs.InnerOuter==\"Inner London\") | (boroughs.InnerOuter==\"Outer London\")]"
   ]
  },
  {
   "cell_type": "markdown",
   "metadata": {
    "slideshow": {
     "slide_type": "subslide"
    }
   },
   "source": [
    "It might be useful to come back to this table of *just* the individual boroughs, so let's assign that to a variable `justBoroughs`"
   ]
  },
  {
   "cell_type": "code",
   "execution_count": null,
   "metadata": {
    "slideshow": {
     "slide_type": "-"
    }
   },
   "outputs": [],
   "source": [
    "justBoroughs = boroughs.loc[(boroughs.InnerOuter==\"Inner London\") | (boroughs.InnerOuter==\"Outer London\")]\n",
    "justBoroughs.head()"
   ]
  },
  {
   "cell_type": "markdown",
   "metadata": {
    "slideshow": {
     "slide_type": "notes"
    }
   },
   "source": [
    "### Note\n",
    "\n",
    "There is a subtle catch here that is worth thinking about when you're trying to do more advanced stuff with `pandas`.\n",
    "\n",
    "`boroughs[]` and `boroughs.loc[]` can appear to do the same thing, but they don't. In general it is better to use `loc`.\n",
    "\n",
    "See [this article](https://www.dataquest.io/blog/settingwithcopywarning/) later if you want more details. "
   ]
  },
  {
   "cell_type": "markdown",
   "metadata": {
    "slideshow": {
     "slide_type": "slide"
    }
   },
   "source": [
    "# Representing Data - Investigating relationships"
   ]
  },
  {
   "cell_type": "markdown",
   "metadata": {
    "slideshow": {
     "slide_type": "-"
    }
   },
   "source": [
    "We would expect there to be an obvious relationship between unemployment rates and employment rates"
   ]
  },
  {
   "cell_type": "code",
   "execution_count": null,
   "metadata": {
    "slideshow": {
     "slide_type": "fragment"
    }
   },
   "outputs": [],
   "source": [
    "justBoroughs.plot.scatter(\"Employ\", \"Unemploy\");"
   ]
  },
  {
   "cell_type": "markdown",
   "metadata": {
    "slideshow": {
     "slide_type": "subslide"
    }
   },
   "source": [
    "Let's quantify that by asking for the correlation coefficient - this is a number between -1 and 1 which tells us whether there is a correlation, how strong it is, and whether this is negative or positive."
   ]
  },
  {
   "cell_type": "code",
   "execution_count": null,
   "metadata": {
    "slideshow": {
     "slide_type": "-"
    }
   },
   "outputs": [],
   "source": [
    "justBoroughs.Employ.corr(justBoroughs.Unemploy)"
   ]
  },
  {
   "cell_type": "markdown",
   "metadata": {
    "slideshow": {
     "slide_type": "subslide"
    }
   },
   "source": [
    "### Question\n",
    "\n",
    "> Why isn't this a perfect correlation?"
   ]
  },
  {
   "cell_type": "markdown",
   "metadata": {
    "slideshow": {
     "slide_type": "slide"
    }
   },
   "source": [
    "The scatterplot above isn't particularly engaging - not great for an infographic. Thankfully we have alternative ways to do this. One possible library with extra options we could use is `seaborn`."
   ]
  },
  {
   "cell_type": "code",
   "execution_count": null,
   "metadata": {
    "slideshow": {
     "slide_type": "-"
    }
   },
   "outputs": [],
   "source": [
    "# pyplot is the grandparent of all python plotting packages\n",
    "import matplotlib.pyplot as plt\n",
    "# seaborn is based on pyplot but makes it easier to use\n",
    "import seaborn as sns\n",
    "# I don't know why we abbreviate seaborn as sns"
   ]
  },
  {
   "cell_type": "markdown",
   "metadata": {
    "slideshow": {
     "slide_type": "subslide"
    }
   },
   "source": [
    "Now an example,"
   ]
  },
  {
   "cell_type": "code",
   "execution_count": null,
   "metadata": {
    "slideshow": {
     "slide_type": "-"
    }
   },
   "outputs": [],
   "source": [
    "# by default seaborn plots come out a bit small, so make ours 8in by 8in\n",
    "plt.figure(figsize=(8,8))\n",
    "# sns.scatterplot has options for controlling colour and dot size so we can use four variables on one graph\n",
    "sns.scatterplot(data=justBoroughs,\n",
    "                x=\"Employ\",\n",
    "                y=\"Unemploy\",\n",
    "                size=\"Population\",\n",
    "                sizes=(10,200),\n",
    "                hue=\"NEET\",\n",
    "                palette=\"Reds\")\n",
    "# where to put the legend\n",
    "plt.legend(loc='upper right');"
   ]
  },
  {
   "cell_type": "markdown",
   "metadata": {},
   "source": [
    "### Tasks\n",
    "- Using the corr function look for relationships which could be strong and plot this using seaborn\n",
    "- Size your data points according to the number of cars\n",
    "- Color the data according to whether it is an inner-London or outer-London borough"
   ]
  },
  {
   "cell_type": "markdown",
   "metadata": {
    "slideshow": {
     "slide_type": "slide"
    }
   },
   "source": [
    "# Representing Data - Using interesting graphics"
   ]
  },
  {
   "cell_type": "markdown",
   "metadata": {
    "slideshow": {
     "slide_type": "-"
    }
   },
   "source": [
    "The `matplotlib` library lets us create axes as we saw above. We can plot straightforward graphs on these axes, or we can do things which are a bit more interesting..."
   ]
  },
  {
   "cell_type": "code",
   "execution_count": null,
   "metadata": {
    "slideshow": {
     "slide_type": "subslide"
    }
   },
   "outputs": [],
   "source": [
    "fig, ax = plt.subplots()\n",
    "stickman = plt.imread(\"stick.png\")\n",
    "ax.imshow(stickman, alpha=0.5,extent=(100,200,100,300))\n",
    "ax.imshow(stickman, alpha=0.2,extent=(0,700,0,400))\n",
    "\n",
    "ax.annotate('Small stickman', (100,320));\n",
    "ax.annotate('Large stickman', (100,420));\n",
    "\n",
    "ax.set_xlim(0, 800)\n",
    "ax.set_ylim(0, 500)\n",
    "ax.set_aspect('auto')"
   ]
  },
  {
   "cell_type": "markdown",
   "metadata": {
    "slideshow": {
     "slide_type": "subslide"
    }
   },
   "source": [
    "### Task\n",
    "Using the code above, the tooltip/documentation and any other sources you need, try to draw two stickmen on a set of axes below. The heights of the stickment should represent the populations of Hackney and Islington respectively."
   ]
  },
  {
   "cell_type": "code",
   "execution_count": null,
   "metadata": {
    "slideshow": {
     "slide_type": "-"
    }
   },
   "outputs": [],
   "source": [
    "fig, ax = plt.subplots()\n",
    "stickman = plt.imread(\"stick.png\")\n",
    "\n",
    "#Get the populations of Hackney and Islington from the table\n",
    "hac_pop = \n",
    "is_pop = \n",
    "\n",
    "#Add the stickmen in so they have the correct heights\n",
    "\n",
    "#You'll need to use and possibly adjust these lines to prevent the plot from stretching, squashing or cutting your figures off\n",
    "ax.set_xlim(0, 3)\n",
    "ax.set_ylim(0, 250000)\n",
    "ax.set_aspect('auto')"
   ]
  },
  {
   "cell_type": "markdown",
   "metadata": {
    "slideshow": {
     "slide_type": "subslide"
    }
   },
   "source": [
    "### Challenge\n",
    "Try iterating through all the boroughs in inner london and drawing stick men heights to represent each population."
   ]
  },
  {
   "cell_type": "code",
   "execution_count": null,
   "metadata": {
    "slideshow": {
     "slide_type": "-"
    }
   },
   "outputs": [],
   "source": [
    "#This turns our population series into a list so we can iterate through it\n",
    "#A better solution could be to use the iterrows or iteritems objects\n",
    "borough_pop_list =boroughs[boroughs['InnerOuter']=='Inner London'].Population.tolist()\n"
   ]
  },
  {
   "cell_type": "markdown",
   "metadata": {
    "slideshow": {
     "slide_type": "slide"
    }
   },
   "source": [
    "# Adding some statistical rigour\n",
    "\n",
    "As part of your project you will need to provide summary statitics to include in a presentation/report backing up your project. The pandas dataframe object has built in functions for statistical measures but you need to be careful whether using them makes sense."
   ]
  },
  {
   "cell_type": "code",
   "execution_count": null,
   "metadata": {
    "slideshow": {
     "slide_type": "fragment"
    }
   },
   "outputs": [],
   "source": [
    "justBoroughs['Age'].mean()"
   ]
  },
  {
   "cell_type": "code",
   "execution_count": null,
   "metadata": {
    "slideshow": {
     "slide_type": "fragment"
    }
   },
   "outputs": [],
   "source": [
    "boroughs.loc['London', 'Age']"
   ]
  },
  {
   "cell_type": "markdown",
   "metadata": {
    "slideshow": {
     "slide_type": "subslide"
    }
   },
   "source": [
    "### Discussion\n",
    "\n",
    "> Why is the mean of the average ages not the same as the London average age?"
   ]
  },
  {
   "cell_type": "markdown",
   "metadata": {
    "slideshow": {
     "slide_type": "fragment"
    }
   },
   "source": [
    "So use the Inner London, Outer London and London averages from the main table rather than applying `mean` to a column."
   ]
  },
  {
   "cell_type": "markdown",
   "metadata": {
    "slideshow": {
     "slide_type": "subslide"
    }
   },
   "source": [
    "### Discussion\n",
    "Other statistical functions we can use with pandas include `median`, `std`, `quantile`. You've already seen `corr`.\n",
    "\n",
    "> What does each of these functions do?\n",
    "> \n",
    "> When would each of them be appropriate to use?\n",
    "> \n",
    "> What other functions can you find which might be useful?"
   ]
  },
  {
   "cell_type": "markdown",
   "metadata": {
    "slideshow": {
     "slide_type": "fragment"
    }
   },
   "source": [
    "You should make sure that everything you represent with your infographic has supporting numerical statistics to give a rigorous backing to your project."
   ]
  },
  {
   "cell_type": "markdown",
   "metadata": {
    "slideshow": {
     "slide_type": "slide"
    }
   },
   "source": [
    "# Representing Data - Time Series\n",
    "\n",
    "The other `csv` files all contain time series. Let's look at how recycling has changed over recent years."
   ]
  },
  {
   "cell_type": "code",
   "execution_count": null,
   "metadata": {
    "slideshow": {
     "slide_type": "-"
    }
   },
   "outputs": [],
   "source": [
    "recycling = pd.read_csv('recycling.csv')\n",
    "recycling"
   ]
  },
  {
   "cell_type": "code",
   "execution_count": null,
   "metadata": {
    "slideshow": {
     "slide_type": "subslide"
    }
   },
   "outputs": [],
   "source": [
    "pd.to_datetime(recycling.Year,format=\"%Y\")"
   ]
  },
  {
   "cell_type": "markdown",
   "metadata": {
    "slideshow": {
     "slide_type": "subslide"
    }
   },
   "source": [
    "This time we'll make `Year` the index"
   ]
  },
  {
   "cell_type": "code",
   "execution_count": null,
   "metadata": {
    "slideshow": {
     "slide_type": "-"
    }
   },
   "outputs": [],
   "source": [
    "recycling['Year']=pd.to_datetime(recycling.Year,format=\"%Y\")\n",
    "recycling = recycling.set_index(\"Year\")\n",
    "recycling"
   ]
  },
  {
   "cell_type": "markdown",
   "metadata": {
    "slideshow": {
     "slide_type": "subslide"
    }
   },
   "source": [
    "Now we can draw a time series graph"
   ]
  },
  {
   "cell_type": "code",
   "execution_count": null,
   "metadata": {
    "slideshow": {
     "slide_type": "-"
    }
   },
   "outputs": [],
   "source": [
    "recycling['Barnet'].plot()\n",
    "recycling[\"Barking and Dagenham\"].plot();"
   ]
  },
  {
   "cell_type": "markdown",
   "metadata": {
    "slideshow": {
     "slide_type": "subslide"
    }
   },
   "source": [
    "It would be helpful to be able to show that Barking and Dagenham has improved by more *as a proportion* of their starting point than Barnet has.\n",
    "\n",
    "We can make a new a column, call it BarnetIndexed say, and fill it with the percentages scaled to 1 at 2004. And the same for Barking and Dagenham."
   ]
  },
  {
   "cell_type": "code",
   "execution_count": null,
   "metadata": {
    "slideshow": {
     "slide_type": "-"
    }
   },
   "outputs": [],
   "source": [
    "recycling[\"BarnetIndexed\"] = recycling.Barnet/recycling.Barnet[2004]\n",
    "recycling[\"Barking and DagenhamIndexed\"] =recycling[\"Barking and Dagenham\"]/recycling[\"Barking and Dagenham\"][2004]"
   ]
  },
  {
   "cell_type": "markdown",
   "metadata": {
    "slideshow": {
     "slide_type": "skip"
    }
   },
   "source": [
    "Things to note about the above\n",
    "\n",
    "* you can make a new column just by saying `recycling[\"New column name\"]=`\n",
    "* you can divide every number in a column by the value in 2004 by just doing `recycling.Barnet/recycling.Barnet[2004]`"
   ]
  },
  {
   "cell_type": "code",
   "execution_count": null,
   "metadata": {
    "scrolled": true,
    "slideshow": {
     "slide_type": "subslide"
    }
   },
   "outputs": [],
   "source": [
    "recycling.BarnetIndexed.plot(c=\"red\")\n",
    "recycling[\"Barking and DagenhamIndexed\"].plot(c=\"blue\");\n",
    "# note the `c` for colour"
   ]
  },
  {
   "cell_type": "markdown",
   "metadata": {
    "slideshow": {
     "slide_type": "subslide"
    }
   },
   "source": [
    "In fact, let's go ahead and do that for all the boroughs. We can use a `for` loop over all the columns (remember that in this dataframe it's the boroughs that are columns and the years are rows.)"
   ]
  },
  {
   "cell_type": "code",
   "execution_count": null,
   "metadata": {
    "slideshow": {
     "slide_type": "-"
    }
   },
   "outputs": [],
   "source": [
    "for column in recycling.columns:\n",
    "    recycling[\"{}Indexed\".format(column)] = recycling[column]/recycling[column][2004]"
   ]
  },
  {
   "cell_type": "code",
   "execution_count": null,
   "metadata": {
    "scrolled": true,
    "slideshow": {
     "slide_type": "subslide"
    }
   },
   "outputs": [],
   "source": [
    "recycling[\"Newham\"].plot(c=\"green\")\n",
    "recycling[\"NewhamIndexed\"].plot(c=\"blue\")\n",
    "recycling[\"Barnet\"].plot(c=\"orange\")\n",
    "recycling[\"BarnetIndexed\"].plot(c=\"red\")\n",
    "plt.title(\"Recycling in Newham and Barnet\");"
   ]
  },
  {
   "cell_type": "markdown",
   "metadata": {
    "slideshow": {
     "slide_type": "notes"
    }
   },
   "source": [
    "There was a small fudge in here. If you check `recycling.dtypes` you'll see that `Year` was an `int64` (an integer) which worked okay for us this time, but in future we'll want to explicit turn it into a `datetime` object instead, so `pandas` knows we're dealing with time. We'll do that with [`to_datetime`](https://pandas.pydata.org/pandas-docs/stable/generated/pandas.to_datetime.html)."
   ]
  },
  {
   "cell_type": "markdown",
   "metadata": {
    "slideshow": {
     "slide_type": "subslide"
    }
   },
   "source": [
    "Documentation for [`pandas` is here](http://pandas.pydata.org/pandas-docs/stable/).\n",
    "\n",
    "We've installed several visualisation libraries that you might find useful\n",
    "\n",
    "* [`pyplot`](https://matplotlib.org/)\n",
    "* [`seaborn`](https://seaborn.pydata.org/)\n",
    "* [`bokeh`](https://bokeh.pydata.org/)\n",
    "* [`chartify`](https://labs.spotify.com/2018/11/15/introducing-chartify-easier-chart-creation-in-python-for-data-scientists/)\n",
    "* [`geopandas`](http://geopandas.org/)"
   ]
  }
 ],
 "metadata": {
  "celltoolbar": "Slideshow",
  "hide_input": false,
  "kernelspec": {
   "display_name": "Python 3",
   "language": "python",
   "name": "python3"
  },
  "language_info": {
   "codemirror_mode": {
    "name": "ipython",
    "version": 3
   },
   "file_extension": ".py",
   "mimetype": "text/x-python",
   "name": "python",
   "nbconvert_exporter": "python",
   "pygments_lexer": "ipython3",
   "version": "3.6.8"
  }
 },
 "nbformat": 4,
 "nbformat_minor": 2
}
